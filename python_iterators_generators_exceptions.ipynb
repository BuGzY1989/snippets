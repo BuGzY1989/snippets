{
 "cells": [
  {
   "cell_type": "markdown",
   "metadata": {},
   "source": [
    "# Python 3\n",
    "\n",
    "## Итераторы, генераторы, исключения\n"
   ]
  },
  {
   "cell_type": "markdown",
   "metadata": {},
   "source": [
    "---"
   ]
  },
  {
   "cell_type": "markdown",
   "metadata": {},
   "source": [
    "### 0. \"Iterable object\"\n",
    "Питоновский объект \"итерируемый\" – означает, что  в цикле можно пройтись по каждому элементу этого объекта."
   ]
  },
  {
   "cell_type": "code",
   "execution_count": 14,
   "metadata": {},
   "outputs": [
    {
     "data": {
      "text/plain": [
       "['a', 'b', 'c', 'd', 'e']"
      ]
     },
     "execution_count": 14,
     "metadata": {},
     "output_type": "execute_result"
    }
   ],
   "source": [
    "my_list = ['a', 'b', 'c', 'd', 'e']  # простой список\n",
    "my_list"
   ]
  },
  {
   "cell_type": "code",
   "execution_count": 15,
   "metadata": {},
   "outputs": [
    {
     "data": {
      "text/plain": [
       "list"
      ]
     },
     "execution_count": 15,
     "metadata": {},
     "output_type": "execute_result"
    }
   ],
   "source": [
    "type(my_list)"
   ]
  },
  {
   "cell_type": "markdown",
   "metadata": {},
   "source": [
    "Обход списка в цикле тремя способами:"
   ]
  },
  {
   "cell_type": "code",
   "execution_count": 16,
   "metadata": {},
   "outputs": [
    {
     "name": "stdout",
     "output_type": "stream",
     "text": [
      "a\n",
      "b\n",
      "c\n",
      "d\n",
      "e\n"
     ]
    }
   ],
   "source": [
    "# C/C++ style\n",
    "for i in range(len(my_list)):\n",
    "    print(my_list[i])"
   ]
  },
  {
   "cell_type": "code",
   "execution_count": 17,
   "metadata": {},
   "outputs": [
    {
     "name": "stdout",
     "output_type": "stream",
     "text": [
      "a\n",
      "b\n",
      "c\n",
      "d\n",
      "e\n"
     ]
    }
   ],
   "source": [
    "# python style\n",
    "for element in my_list:\n",
    "    print(element)"
   ]
  },
  {
   "cell_type": "code",
   "execution_count": 19,
   "metadata": {},
   "outputs": [
    {
     "name": "stdout",
     "output_type": "stream",
     "text": [
      "0 a\n",
      "1 b\n",
      "2 c\n",
      "3 d\n",
      "4 e\n"
     ]
    }
   ],
   "source": [
    "# combined style\n",
    "for i, element in enumerate(my_list):\n",
    "    print(i, element)"
   ]
  },
  {
   "cell_type": "markdown",
   "metadata": {},
   "source": [
    "Аналогично работает для кортежей (tuple), словарей, множеств, строк и т.д.\n",
    "\n",
    "Но не работает например для чисел:"
   ]
  },
  {
   "cell_type": "code",
   "execution_count": 21,
   "metadata": {},
   "outputs": [
    {
     "ename": "TypeError",
     "evalue": "'int' object is not iterable",
     "output_type": "error",
     "traceback": [
      "\u001b[1;31m---------------------------------------------------------------------------\u001b[0m",
      "\u001b[1;31mTypeError\u001b[0m                                 Traceback (most recent call last)",
      "\u001b[1;32m<ipython-input-21-6b2ddd08e754>\u001b[0m in \u001b[0;36m<module>\u001b[1;34m\u001b[0m\n\u001b[0;32m      1\u001b[0m \u001b[0ma\u001b[0m \u001b[1;33m=\u001b[0m \u001b[1;36m5\u001b[0m\u001b[1;33m\u001b[0m\u001b[1;33m\u001b[0m\u001b[0m\n\u001b[1;32m----> 2\u001b[1;33m \u001b[1;32mfor\u001b[0m \u001b[0mnumber\u001b[0m \u001b[1;32min\u001b[0m \u001b[0ma\u001b[0m\u001b[1;33m:\u001b[0m\u001b[1;33m\u001b[0m\u001b[1;33m\u001b[0m\u001b[0m\n\u001b[0m\u001b[0;32m      3\u001b[0m     \u001b[0mprint\u001b[0m\u001b[1;33m(\u001b[0m\u001b[0mnumber\u001b[0m\u001b[1;33m)\u001b[0m\u001b[1;33m\u001b[0m\u001b[1;33m\u001b[0m\u001b[0m\n",
      "\u001b[1;31mTypeError\u001b[0m: 'int' object is not iterable"
     ]
    }
   ],
   "source": [
    "a = 5\n",
    "for number in a:\n",
    "    print(number)"
   ]
  },
  {
   "cell_type": "markdown",
   "metadata": {},
   "source": [
    "**Вопрос**: почему именно такое поведение и как это реализовано в Python?"
   ]
  },
  {
   "cell_type": "markdown",
   "metadata": {},
   "source": [
    "**Ответ**: итерируемые классы поддерживают так называемый *протокол итераций* – *iterator protocol* (об этом ниже)."
   ]
  },
  {
   "cell_type": "markdown",
   "metadata": {},
   "source": [
    "---\n",
    "---"
   ]
  },
  {
   "cell_type": "markdown",
   "metadata": {},
   "source": [
    "### 1. Выражения генераторов списков (list comprehension expression)"
   ]
  },
  {
   "cell_type": "markdown",
   "metadata": {},
   "source": [
    "Способы создания списков:\n",
    "*  вручную"
   ]
  },
  {
   "cell_type": "code",
   "execution_count": 26,
   "metadata": {},
   "outputs": [
    {
     "data": {
      "text/plain": [
       "[1, 2, 3, 4, 5]"
      ]
     },
     "execution_count": 26,
     "metadata": {},
     "output_type": "execute_result"
    }
   ],
   "source": [
    "my_list = [1, 2, 3, 4, 5]\n",
    "my_list"
   ]
  },
  {
   "cell_type": "markdown",
   "metadata": {},
   "source": [
    "*  поэлементным добавлением в цикле или функции"
   ]
  },
  {
   "cell_type": "code",
   "execution_count": 25,
   "metadata": {},
   "outputs": [
    {
     "data": {
      "text/plain": [
       "[1, 2, 3, 4, 5]"
      ]
     },
     "execution_count": 25,
     "metadata": {},
     "output_type": "execute_result"
    }
   ],
   "source": [
    "my_list = []\n",
    "for i in range(1, 6):\n",
    "    my_list.append(i)\n",
    "my_list"
   ]
  },
  {
   "cell_type": "markdown",
   "metadata": {},
   "source": [
    "*  с помощью выражения генераторов списков"
   ]
  },
  {
   "cell_type": "code",
   "execution_count": 27,
   "metadata": {},
   "outputs": [
    {
     "data": {
      "text/plain": [
       "[1, 2, 3, 4, 5]"
      ]
     },
     "execution_count": 27,
     "metadata": {},
     "output_type": "execute_result"
    }
   ],
   "source": [
    "my_list = [i for i in range(1, 6)]\n",
    "my_list"
   ]
  },
  {
   "cell_type": "markdown",
   "metadata": {},
   "source": [
    "Можно считать, что две предыдущие записи эквивалентны."
   ]
  },
  {
   "cell_type": "markdown",
   "metadata": {},
   "source": [
    " ---"
   ]
  },
  {
   "cell_type": "markdown",
   "metadata": {},
   "source": [
    "В чем преимущества создания списков с помощью \"List Comprehension\":\n",
    "1. Читаемость кода\n",
    "2. Скорость выполнения\n",
    "3. Возможность использовать более сложные выражения (с условиями и итерированием по нескольким спискам)"
   ]
  },
  {
   "cell_type": "code",
   "execution_count": 29,
   "metadata": {},
   "outputs": [],
   "source": [
    "def create_list_with_append(list_length=1000000):\n",
    "    my_list = []\n",
    "    for i in range(1, list_length+1):\n",
    "        my_list.append(i)\n",
    "    return my_list"
   ]
  },
  {
   "cell_type": "code",
   "execution_count": 30,
   "metadata": {},
   "outputs": [],
   "source": [
    "def create_list_with_comprehension(list_length=1000000):\n",
    "    return [i for i in range(1, list_length+1)]"
   ]
  },
  {
   "cell_type": "code",
   "execution_count": 34,
   "metadata": {},
   "outputs": [
    {
     "name": "stdout",
     "output_type": "stream",
     "text": [
      "94.6 ms ± 862 µs per loop (mean ± std. dev. of 7 runs, 10 loops each)\n"
     ]
    }
   ],
   "source": [
    "%timeit create_list_with_append();"
   ]
  },
  {
   "cell_type": "code",
   "execution_count": 35,
   "metadata": {},
   "outputs": [
    {
     "name": "stdout",
     "output_type": "stream",
     "text": [
      "58.2 ms ± 152 µs per loop (mean ± std. dev. of 7 runs, 10 loops each)\n"
     ]
    }
   ],
   "source": [
    "%timeit create_list_with_comprehension();"
   ]
  },
  {
   "cell_type": "markdown",
   "metadata": {},
   "source": [
    " Примеры:"
   ]
  },
  {
   "cell_type": "code",
   "execution_count": 43,
   "metadata": {},
   "outputs": [
    {
     "data": {
      "text/plain": [
       "(<zip at 0x22e76a82b08>, [('a', 1), ('b', 2), ('c', 3)])"
      ]
     },
     "execution_count": 43,
     "metadata": {},
     "output_type": "execute_result"
    }
   ],
   "source": [
    "a = zip(['a', 'b', 'c'], [1, 2, 3])\n",
    "a, list(a)"
   ]
  },
  {
   "cell_type": "code",
   "execution_count": 39,
   "metadata": {},
   "outputs": [
    {
     "data": {
      "text/plain": [
       "['a', 'bb', 'ccc']"
      ]
     },
     "execution_count": 39,
     "metadata": {},
     "output_type": "execute_result"
    }
   ],
   "source": [
    "[k*v for (k, v) in zip(['a', 'b', 'c'], [1, 2, 3])]"
   ]
  },
  {
   "cell_type": "code",
   "execution_count": 40,
   "metadata": {},
   "outputs": [
    {
     "data": {
      "text/plain": [
       "[0, 1, 4, 27, 16, 125, 36, 343, 64, 729]"
      ]
     },
     "execution_count": 40,
     "metadata": {},
     "output_type": "execute_result"
    }
   ],
   "source": [
    "[x ** 2 if x % 2 == 0 else x ** 3 for x in range(10)]"
   ]
  },
  {
   "cell_type": "code",
   "execution_count": 44,
   "metadata": {},
   "outputs": [
    {
     "data": {
      "text/plain": [
       "[(1, 5),\n",
       " (1, 4),\n",
       " (1, 3),\n",
       " (1, 2),\n",
       " (2, 5),\n",
       " (2, 4),\n",
       " (2, 3),\n",
       " (3, 5),\n",
       " (3, 4),\n",
       " (3, 2),\n",
       " (4, 5),\n",
       " (4, 3),\n",
       " (4, 2)]"
      ]
     },
     "execution_count": 44,
     "metadata": {},
     "output_type": "execute_result"
    }
   ],
   "source": [
    "first = []\n",
    "for x in range(1, 5):\n",
    "    for y in range(5, 1, -1):\n",
    "        if x != y:\n",
    "            first.append((x, y))\n",
    "            \n",
    "# эквивалентно:\n",
    "            \n",
    "[(x, y) for x in range(1, 5) for y in range(5, 1, -1) if x != y]"
   ]
  },
  {
   "cell_type": "markdown",
   "metadata": {},
   "source": [
    "Но помните! — __Simple is better than complex__ (Простое лучше, чем сложное)*\n",
    "\n",
    "*PEP 20 -- The Zen of Python  \n",
    "_import this_ в интерпретаторе  \n",
    "https://www.python.org/dev/peps/pep-0020/  \n",
    "https://tyapk.ru/blog/post/the-zen-of-python"
   ]
  },
  {
   "cell_type": "markdown",
   "metadata": {},
   "source": [
    " ---"
   ]
  },
  {
   "cell_type": "markdown",
   "metadata": {},
   "source": [
    "Приятный бонус – аналогичный синтаксис существует для создания __словарей__ и __множеств__:"
   ]
  },
  {
   "cell_type": "code",
   "execution_count": 167,
   "metadata": {},
   "outputs": [
    {
     "data": {
      "text/plain": [
       "(dict, {1: 'a', 2: 'b', 3: 'c'})"
      ]
     },
     "execution_count": 167,
     "metadata": {},
     "output_type": "execute_result"
    }
   ],
   "source": [
    "my_dict = {key: value for key, value in zip([1, 2, 3], ['a', 'b', 'c'])}\n",
    "type(my_dict), my_dict"
   ]
  },
  {
   "cell_type": "code",
   "execution_count": 168,
   "metadata": {},
   "outputs": [
    {
     "data": {
      "text/plain": [
       "(set, {1, 2, 3})"
      ]
     },
     "execution_count": 168,
     "metadata": {},
     "output_type": "execute_result"
    }
   ],
   "source": [
    "my_set = {key for key in [1, 1, 2, 2, 3, 3]}\n",
    "type(my_set), my_set"
   ]
  },
  {
   "cell_type": "markdown",
   "metadata": {},
   "source": [
    "---\n",
    "---"
   ]
  },
  {
   "cell_type": "markdown",
   "metadata": {},
   "source": [
    "### 2. Выражения-генераторы (generator expressions)"
   ]
  },
  {
   "cell_type": "markdown",
   "metadata": {},
   "source": [
    "__Выражения-генераторы__ – напоминают генераторы списков, но они не конструируют список с\n",
    "результатами, а возвращают объект, который будет воспроизводить результаты по требованию.  \n",
    "Поскольку такая конструкция не создает сразу весь список с результатами, она позволяют\n",
    "__экономить память и производить дополнительные вычисления между операциями__ получения результатов.  \n",
    "Такая возможность возврата результатов по требованию обеспечена за счёт реализации _протокола итераций_."
   ]
  },
  {
   "cell_type": "code",
   "execution_count": 65,
   "metadata": {},
   "outputs": [
    {
     "data": {
      "text/plain": [
       "<generator object <genexpr> at 0x0000022E76C3AA40>"
      ]
     },
     "execution_count": 65,
     "metadata": {},
     "output_type": "execute_result"
    }
   ],
   "source": [
    "my_gen = (k*v for (k, v) in zip(['a', 'b', 'c', 'd', 'e'], [1, 2, 3, 4, 5]))\n",
    "my_gen"
   ]
  },
  {
   "cell_type": "code",
   "execution_count": 66,
   "metadata": {},
   "outputs": [
    {
     "data": {
      "text/plain": [
       "['a', 'bb', 'ccc', 'dddd', 'eeeee']"
      ]
     },
     "execution_count": 66,
     "metadata": {},
     "output_type": "execute_result"
    }
   ],
   "source": [
    "# Получаем сразу все значения с помощью преобразования в список:\n",
    "list(my_gen)"
   ]
  },
  {
   "cell_type": "code",
   "execution_count": 67,
   "metadata": {},
   "outputs": [
    {
     "data": {
      "text/plain": [
       "[]"
      ]
     },
     "execution_count": 67,
     "metadata": {},
     "output_type": "execute_result"
    }
   ],
   "source": [
    "# Второй раз не получится, т.к. данный генератор уже \"выдал\" все свои значения!\n",
    "list(my_gen)"
   ]
  },
  {
   "cell_type": "code",
   "execution_count": 104,
   "metadata": {},
   "outputs": [
    {
     "data": {
      "text/plain": [
       "('a', 'bb', 'ccc', 'dddd', 'eeeee')"
      ]
     },
     "execution_count": 104,
     "metadata": {},
     "output_type": "execute_result"
    }
   ],
   "source": [
    "# Если хотим пройтись по значениям ещё раз, то придётся создавать генератор заного:\n",
    "my_gen = (k*v for (k, v) in zip(['a', 'b', 'c', 'd', 'e'], [1, 2, 3, 4, 5]))\n",
    "tuple(my_gen)"
   ]
  },
  {
   "cell_type": "markdown",
   "metadata": {},
   "source": [
    " "
   ]
  },
  {
   "cell_type": "code",
   "execution_count": 108,
   "metadata": {},
   "outputs": [
    {
     "name": "stdout",
     "output_type": "stream",
     "text": [
      "0\n",
      "1\n",
      "2\n"
     ]
    }
   ],
   "source": [
    "# Также значения можно получать в цикле:\n",
    "my_gen = (i for i in range(3))\n",
    "for i in my_gen:\n",
    "    print(i)"
   ]
  },
  {
   "cell_type": "code",
   "execution_count": 100,
   "metadata": {},
   "outputs": [
    {
     "data": {
      "text/plain": [
       "0"
      ]
     },
     "execution_count": 100,
     "metadata": {},
     "output_type": "execute_result"
    }
   ],
   "source": [
    "# Или передавая генератор стандартной функции next():\n",
    "my_gen = (i for i in range(3))\n",
    "next(my_gen)"
   ]
  },
  {
   "cell_type": "code",
   "execution_count": 101,
   "metadata": {},
   "outputs": [
    {
     "data": {
      "text/plain": [
       "1"
      ]
     },
     "execution_count": 101,
     "metadata": {},
     "output_type": "execute_result"
    }
   ],
   "source": [
    "next(my_gen)"
   ]
  },
  {
   "cell_type": "code",
   "execution_count": 102,
   "metadata": {},
   "outputs": [
    {
     "data": {
      "text/plain": [
       "2"
      ]
     },
     "execution_count": 102,
     "metadata": {},
     "output_type": "execute_result"
    }
   ],
   "source": [
    "next(my_gen)"
   ]
  },
  {
   "cell_type": "code",
   "execution_count": 103,
   "metadata": {},
   "outputs": [
    {
     "ename": "StopIteration",
     "evalue": "",
     "output_type": "error",
     "traceback": [
      "\u001b[1;31m---------------------------------------------------------------------------\u001b[0m",
      "\u001b[1;31mStopIteration\u001b[0m                             Traceback (most recent call last)",
      "\u001b[1;32m<ipython-input-103-93b517f5a6b4>\u001b[0m in \u001b[0;36m<module>\u001b[1;34m\u001b[0m\n\u001b[0;32m      1\u001b[0m \u001b[1;31m# Но тогда, при исчерпании значений, будет вызвано исключение StopIteration:\u001b[0m\u001b[1;33m\u001b[0m\u001b[1;33m\u001b[0m\u001b[1;33m\u001b[0m\u001b[0m\n\u001b[1;32m----> 2\u001b[1;33m \u001b[0mnext\u001b[0m\u001b[1;33m(\u001b[0m\u001b[0mmy_gen\u001b[0m\u001b[1;33m)\u001b[0m\u001b[1;33m\u001b[0m\u001b[1;33m\u001b[0m\u001b[0m\n\u001b[0m",
      "\u001b[1;31mStopIteration\u001b[0m: "
     ]
    }
   ],
   "source": [
    "# Но тогда, при исчерпании значений, будет вызвано исключение StopIteration:\n",
    "next(my_gen)"
   ]
  },
  {
   "cell_type": "markdown",
   "metadata": {},
   "source": [
    " ---"
   ]
  },
  {
   "cell_type": "markdown",
   "metadata": {},
   "source": [
    " ### ВАЖНО! Значения генерируются не в момент создания генератора, а в момент его вызова!"
   ]
  },
  {
   "cell_type": "code",
   "execution_count": 169,
   "metadata": {},
   "outputs": [
    {
     "data": {
      "text/plain": [
       "[1, 4, 9, 16, 25, 36]"
      ]
     },
     "execution_count": 169,
     "metadata": {},
     "output_type": "execute_result"
    }
   ],
   "source": [
    "# Пример:\n",
    "\n",
    "my_list = [1, 2, 3, 4, 5]\n",
    "my_gen = (i*i for i in my_list)\n",
    "\n",
    "# далее может быть любой код...\n",
    "# в том числе и изменяющий исходный список:\n",
    "my_list.append(6)\n",
    "\n",
    "# теперь получаем итоговые значения:\n",
    "list(my_gen)"
   ]
  },
  {
   "cell_type": "markdown",
   "metadata": {},
   "source": [
    "Выражение-генератор использовало обновленный список.\n",
    "\n",
    "В отличие от генераторов-списков, которые рассчитывают итоговые значения СРАЗУ:"
   ]
  },
  {
   "cell_type": "code",
   "execution_count": 89,
   "metadata": {},
   "outputs": [
    {
     "data": {
      "text/plain": [
       "[1, 4, 9, 16, 25]"
      ]
     },
     "execution_count": 89,
     "metadata": {},
     "output_type": "execute_result"
    }
   ],
   "source": [
    "# Пример:\n",
    "\n",
    "my_list = [1, 2, 3, 4, 5]\n",
    "my_list_gen = [i*i for i in my_list]\n",
    "\n",
    "# далее идёт какой-то код...\n",
    "# в том числе и изменяющий исходный список:\n",
    "my_list.append(6)\n",
    "\n",
    "# получаем итоговые значения:\n",
    "list(my_list_gen)"
   ]
  },
  {
   "cell_type": "markdown",
   "metadata": {},
   "source": [
    " ---"
   ]
  },
  {
   "cell_type": "markdown",
   "metadata": {},
   "source": [
    "Остальные свойства генераторов-выражений аналогичны генераторам списков  \n",
    "(можно использовать в заглавии цикла, с условными выражениями и с итерациями по нескольким значениям):"
   ]
  },
  {
   "cell_type": "code",
   "execution_count": 79,
   "metadata": {
    "scrolled": true
   },
   "outputs": [
    {
     "name": "stdout",
     "output_type": "stream",
     "text": [
      "1 5\n",
      "1 4\n",
      "1 3\n",
      "1 2\n",
      "2 5\n",
      "2 4\n",
      "2 3\n",
      "3 5\n",
      "3 4\n",
      "3 2\n",
      "4 5\n",
      "4 3\n",
      "4 2\n"
     ]
    }
   ],
   "source": [
    "my_gen = ((x, y) for x in range(1, 5) for y in range(5, 1, -1) if x != y)\n",
    "for x, y in my_gen:\n",
    "    print(x, y)"
   ]
  },
  {
   "cell_type": "markdown",
   "metadata": {},
   "source": [
    "---\n",
    "---"
   ]
  },
  {
   "cell_type": "markdown",
   "metadata": {},
   "source": [
    "### 3. Функции-генераторы (generator functions)"
   ]
  },
  {
   "cell_type": "markdown",
   "metadata": {},
   "source": [
    "Что если нужна более сложная логика для генераторов?  \n",
    "Для этого в Python существуют функции-генераторы – они выглядят как обычные инструкции для создания функций _def_, но для возврата результатов по одному значению за раз используют команду __yield__ (вместо __return__), приостанавливающую выполнение функции в данном месте программы до следующего вызова значения генератора."
   ]
  },
  {
   "cell_type": "code",
   "execution_count": 131,
   "metadata": {},
   "outputs": [],
   "source": [
    "# Пример обычной функции:\n",
    "def get_random_numbers(N_numbers, a=1, b=100):\n",
    "    from random import randint  # генерирует случайное целое число в диапазоне от 'a' до 'b'\n",
    "    \n",
    "    random_numbers_list = []\n",
    "    \n",
    "    for i in range(int(N_numbers)):\n",
    "        random_numbers_list.append(randint(int(a), int(b)))\n",
    "        \n",
    "    return random_numbers_list  # здесь возвращается весь список"
   ]
  },
  {
   "cell_type": "code",
   "execution_count": 125,
   "metadata": {},
   "outputs": [
    {
     "data": {
      "text/plain": [
       "[61, 20, 50, 90, 59]"
      ]
     },
     "execution_count": 125,
     "metadata": {},
     "output_type": "execute_result"
    }
   ],
   "source": [
    "my_list = get_random_numbers(5)\n",
    "my_list"
   ]
  },
  {
   "cell_type": "code",
   "execution_count": 157,
   "metadata": {},
   "outputs": [],
   "source": [
    "# Аналогичная функция-генератор:\n",
    "def get_random_numbers_generator(N_numbers, a=1, b=100):\n",
    "    from random import randint  # генерирует случайное целое число в диапазоне от 'a' до 'b'\n",
    "    \n",
    "    for i in range(int(N_numbers)):\n",
    "        random_number = randint(int(a), int(b))\n",
    "        print('Получено число: {}'.format(random_number))\n",
    "        \n",
    "        yield random_number  # здесь происходит возврат одного значения и заморозка состояния до следующего раза\n",
    "        print('Продолжаю генерацию...')\n",
    "        \n",
    "    print('Генерация случайных чисел окончена', end='\\n\\n')"
   ]
  },
  {
   "cell_type": "code",
   "execution_count": 158,
   "metadata": {},
   "outputs": [
    {
     "data": {
      "text/plain": [
       "<generator object get_random_numbers_generator at 0x0000022E7AFECFC0>"
      ]
     },
     "execution_count": 158,
     "metadata": {},
     "output_type": "execute_result"
    }
   ],
   "source": [
    "random_numbers = get_random_numbers_generator(5)\n",
    "random_numbers"
   ]
  },
  {
   "cell_type": "code",
   "execution_count": 159,
   "metadata": {},
   "outputs": [
    {
     "name": "stdout",
     "output_type": "stream",
     "text": [
      "Получено число: 74\n",
      "Продолжаю генерацию...\n",
      "Получено число: 79\n",
      "Продолжаю генерацию...\n",
      "Получено число: 76\n",
      "Продолжаю генерацию...\n",
      "Получено число: 65\n",
      "Продолжаю генерацию...\n",
      "Получено число: 97\n",
      "Продолжаю генерацию...\n",
      "Генерация случайных чисел окончена\n",
      "\n",
      "[74, 79, 76, 65, 97]\n"
     ]
    }
   ],
   "source": [
    "print(list(random_numbers))"
   ]
  },
  {
   "cell_type": "code",
   "execution_count": 161,
   "metadata": {},
   "outputs": [
    {
     "name": "stdout",
     "output_type": "stream",
     "text": [
      "[]\n"
     ]
    }
   ],
   "source": [
    "# По прежнему генератор сработает только один раз (если он не бесконечный – но тогда (в данном коде) он бы завис):\n",
    "print(list(random_numbers))"
   ]
  },
  {
   "cell_type": "code",
   "execution_count": 172,
   "metadata": {
    "scrolled": true
   },
   "outputs": [
    {
     "name": "stdout",
     "output_type": "stream",
     "text": [
      "Получено число: 82\n",
      "82\n",
      "Продолжаю генерацию...\n",
      "Получено число: 22\n",
      "22\n",
      "Продолжаю генерацию...\n",
      "Получено число: 90\n",
      "90\n",
      "Продолжаю генерацию...\n",
      "Получено число: 55\n",
      "55\n",
      "Продолжаю генерацию...\n",
      "Получено число: 82\n",
      "82\n",
      "Продолжаю генерацию...\n",
      "Генерация случайных чисел окончена\n",
      "\n"
     ]
    }
   ],
   "source": [
    "# Само собой можно получать значения в цикле:\n",
    "random_numbers = get_random_numbers_generator(5)\n",
    "\n",
    "for number in random_numbers:\n",
    "    print(number)"
   ]
  },
  {
   "cell_type": "markdown",
   "metadata": {},
   "source": [
    "---\n",
    "---"
   ]
  },
  {
   "cell_type": "markdown",
   "metadata": {},
   "source": [
    "### 4. Протокол итераций (iterable protocol)"
   ]
  },
  {
   "cell_type": "markdown",
   "metadata": {},
   "source": [
    "Что происходит, когда мы пишем:\n",
    "\n",
    "    for element in my_generator:\n",
    "        print(element)\n",
    "        \n",
    "1. В начале с помощью встроенного в генератор метода **\\_\\_iter\\_\\_**() вызывается объект-итератор.\n",
    "2. Далее последовательно каждый раз возвращается генерируемое значение с помощью метод  **\\_\\_next_\\_**().\n",
    "3. В конце, при исчерпании генерируемых значений, вызвается исключение StopIteration, которое автоматически обрабатывается циклом.\n",
    "\n",
    "__Это и есть протокол итерации (iterable protocol)__."
   ]
  },
  {
   "cell_type": "markdown",
   "metadata": {},
   "source": [
    "Таким образом, чтобы сделать любой класс итерируемым, достаточно реализовать в нем данные два метода.  \n",
    "Пример:"
   ]
  },
  {
   "cell_type": "code",
   "execution_count": 99,
   "metadata": {},
   "outputs": [],
   "source": [
    "class FibonacciBatchGenerator:\n",
    "    \"\"\"\n",
    "    Бесконечный генератор последовательности чисел Фибоначчи\n",
    "    \n",
    "    \n",
    "    Следующее число равно сумме двух предыдущих:    \n",
    "        0, 1, 1, 2, 3, 5, 8, 13, 21...\n",
    "    \"\"\"\n",
    "    \n",
    "    def __init__(self, batch_size=10):\n",
    "\n",
    "        self.batch_size = batch_size\n",
    "        self.i = 0\n",
    "        self.first = 1\n",
    "        self.second = 0\n",
    "        \n",
    "    def __iter__(self):\n",
    "        return self\n",
    "    \n",
    "    def __next__(self):\n",
    "\n",
    "        if self.i > 0:\n",
    "            self.first, self.second = self.second, self.first+self.second\n",
    "        \n",
    "        if self.i < self.batch_size:\n",
    "            self.i += 1\n",
    "            return self.second\n",
    "        else:\n",
    "            self.i = 0  # возвращаем исходное значение, чтобы работал повторный вызова генератора\n",
    "            raise StopIteration"
   ]
  },
  {
   "cell_type": "code",
   "execution_count": 100,
   "metadata": {},
   "outputs": [
    {
     "data": {
      "text/plain": [
       "[0, 1, 1, 2, 3, 5, 8, 13, 21, 34]"
      ]
     },
     "execution_count": 100,
     "metadata": {},
     "output_type": "execute_result"
    }
   ],
   "source": [
    "fibonacci = FibonacciBatchGenerator(10)\n",
    "list(fibonacci)"
   ]
  },
  {
   "cell_type": "code",
   "execution_count": 101,
   "metadata": {},
   "outputs": [
    {
     "data": {
      "text/plain": [
       "[55, 89, 144, 233, 377, 610, 987, 1597, 2584, 4181]"
      ]
     },
     "execution_count": 101,
     "metadata": {},
     "output_type": "execute_result"
    }
   ],
   "source": [
    "# повторно работает, продолжает выдавать числа \"порциями\"\n",
    "list(fibonacci)"
   ]
  },
  {
   "cell_type": "code",
   "execution_count": 102,
   "metadata": {},
   "outputs": [
    {
     "name": "stdout",
     "output_type": "stream",
     "text": [
      "6765 10946 17711 28657 46368 75025 121393 196418 317811 514229\n"
     ]
    }
   ],
   "source": [
    "# next работает для 10 чисел\n",
    "print(\n",
    "    next(fibonacci), next(fibonacci), next(fibonacci), next(fibonacci), next(fibonacci),\n",
    "    next(fibonacci), next(fibonacci), next(fibonacci), next(fibonacci), next(fibonacci)\n",
    ")"
   ]
  },
  {
   "cell_type": "code",
   "execution_count": 103,
   "metadata": {
    "scrolled": true
   },
   "outputs": [
    {
     "ename": "StopIteration",
     "evalue": "",
     "output_type": "error",
     "traceback": [
      "\u001b[1;31m---------------------------------------------------------------------------\u001b[0m",
      "\u001b[1;31mStopIteration\u001b[0m                             Traceback (most recent call last)",
      "\u001b[1;32m<ipython-input-103-3f3687daf507>\u001b[0m in \u001b[0;36m<module>\u001b[1;34m\u001b[0m\n\u001b[0;32m      1\u001b[0m \u001b[1;31m# а дальше функция next вызывет исключение StopIteration (как и обычный генератор)\u001b[0m\u001b[1;33m\u001b[0m\u001b[1;33m\u001b[0m\u001b[1;33m\u001b[0m\u001b[0m\n\u001b[1;32m----> 2\u001b[1;33m \u001b[0mnext\u001b[0m\u001b[1;33m(\u001b[0m\u001b[0mfibonacci\u001b[0m\u001b[1;33m)\u001b[0m\u001b[1;33m\u001b[0m\u001b[1;33m\u001b[0m\u001b[0m\n\u001b[0m",
      "\u001b[1;32m<ipython-input-99-024ab5574610>\u001b[0m in \u001b[0;36m__next__\u001b[1;34m(self)\u001b[0m\n\u001b[0;32m     29\u001b[0m         \u001b[1;32melse\u001b[0m\u001b[1;33m:\u001b[0m\u001b[1;33m\u001b[0m\u001b[1;33m\u001b[0m\u001b[0m\n\u001b[0;32m     30\u001b[0m             \u001b[0mself\u001b[0m\u001b[1;33m.\u001b[0m\u001b[0mi\u001b[0m \u001b[1;33m=\u001b[0m \u001b[1;36m0\u001b[0m  \u001b[1;31m# возвращаем исходное значение, чтобы работал повторный вызова генератора\u001b[0m\u001b[1;33m\u001b[0m\u001b[1;33m\u001b[0m\u001b[0m\n\u001b[1;32m---> 31\u001b[1;33m             \u001b[1;32mraise\u001b[0m \u001b[0mStopIteration\u001b[0m\u001b[1;33m\u001b[0m\u001b[1;33m\u001b[0m\u001b[0m\n\u001b[0m",
      "\u001b[1;31mStopIteration\u001b[0m: "
     ]
    }
   ],
   "source": [
    "# а дальше функция next вызывет исключение StopIteration (как и обычный генератор)\n",
    "next(fibonacci)"
   ]
  },
  {
   "cell_type": "markdown",
   "metadata": {},
   "source": [
    "---\n",
    "---\n",
    "---"
   ]
  },
  {
   "cell_type": "markdown",
   "metadata": {},
   "source": [
    "### 5. Исключения (Exceptions)"
   ]
  },
  {
   "cell_type": "markdown",
   "metadata": {},
   "source": [
    "Исключения в языке Python возбуждаются автоматически, когда программный код допускает ошибку, а также могут возбуждаться и перехватываться самим программным кодом. Обрабатываются исключения следующими командами:\n",
    "\n",
    "> **try / except** (**/ else / finally**) – перехватывает исключения, возбужденные интерпретатором или вашим программным\n",
    "кодом, и выполняет восстановительные операции.\n",
    "\n",
    ">**raise** – дает возможность возбудить исключение программно.\n",
    "\n",
    ">**assert** – дает возможность возбудить исключение программно, при выполнении определенного условия.\n",
    "\n",
    ">**with/as** – реализует менеджеры контекста.\n",
    "\n",
    "Исключения позволяют перепрыгнуть через фрагмент программы произвольной длины и соответствующим образом реагировать на необычные события."
   ]
  },
  {
   "cell_type": "markdown",
   "metadata": {},
   "source": [
    "#### Built-in Exceptions"
   ]
  },
  {
   "cell_type": "code",
   "execution_count": 111,
   "metadata": {},
   "outputs": [
    {
     "data": {
      "text/plain": [
       "(Exception,\n",
       " OverflowError,\n",
       " ZeroDivisionError,\n",
       " FloatingPointError,\n",
       " RecursionError,\n",
       " ImportError,\n",
       " ModuleNotFoundError,\n",
       " OSError,\n",
       " IndexError,\n",
       " KeyError,\n",
       " StopIteration,\n",
       " NotImplementedError,\n",
       " IndentationError)"
      ]
     },
     "execution_count": 111,
     "metadata": {},
     "output_type": "execute_result"
    }
   ],
   "source": [
    "(Exception,\n",
    " OverflowError, ZeroDivisionError, FloatingPointError, RecursionError,\n",
    " ImportError, ModuleNotFoundError,\n",
    " OSError,\n",
    " IndexError, KeyError, StopIteration,\n",
    " NotImplementedError, IndentationError)"
   ]
  },
  {
   "cell_type": "markdown",
   "metadata": {},
   "source": [
    "https://docs.python.org/3/library/exceptions.html"
   ]
  },
  {
   "cell_type": "markdown",
   "metadata": {},
   "source": [
    "---"
   ]
  },
  {
   "cell_type": "markdown",
   "metadata": {},
   "source": [
    "Варианты синтаксиса **try / except / else / finally**:"
   ]
  },
  {
   "cell_type": "code",
   "execution_count": 123,
   "metadata": {},
   "outputs": [
    {
     "name": "stdout",
     "output_type": "stream",
     "text": [
      "Результат деления: 10 : 2 = 5\n",
      "Выполнение финального блока закончено.\n"
     ]
    }
   ],
   "source": [
    "a = 10; b = 2\n",
    "\n",
    "try:\n",
    "    # Обязательный блок выполнения команд:\n",
    "    division = a // b\n",
    "\n",
    "except:\n",
    "    # Обязательный блок обработки возникшего исключения:\n",
    "    print('Невозможно поделить на ноль')\n",
    "\n",
    "else:\n",
    "    # Необязательный блок, но может существовать только при наличии блока 'except'.\n",
    "    # Исполняется, если в блоке 'try' не возникло никаких исключений (т.е. он успешно выполнился):\n",
    "    print('Результат деления: {} : {} = {}'.format(a, b, division))\n",
    "\n",
    "finally:\n",
    "    # Необязательный блок.\n",
    "    # Исполняется ВСЕГДА, независимо от того, возникло ли исключение или нет.\n",
    "    print('Выполнение финального блока закончено.')"
   ]
  },
  {
   "cell_type": "code",
   "execution_count": 138,
   "metadata": {},
   "outputs": [
    {
     "name": "stdout",
     "output_type": "stream",
     "text": [
      "Невозможно поделить на ноль.\n",
      "Выполнение финального блока закончено.\n"
     ]
    }
   ],
   "source": [
    "a = 10; b = 0\n",
    "\n",
    "try:\n",
    "    # Обязательный блок выполнения команд\n",
    "    division = a // b\n",
    "\n",
    "except ZeroDivisionError:\n",
    "    # Необязательный блок обработки возникшего исключения деления на 0:\n",
    "    print('Невозможно поделить на ноль.')\n",
    "\n",
    "except Exception as E:\n",
    "    # Необязательный блок обработки всех остальных возникших исключений:\n",
    "    print(\"'{}' - '{}'\".format(type(E), E))\n",
    "\n",
    "finally:\n",
    "    # Необязательный блок.\n",
    "    # Исполняется ВСЕГДА, независимо от того, возникло ли исключение или нет.\n",
    "    print('Выполнение финального блока закончено.')"
   ]
  },
  {
   "cell_type": "code",
   "execution_count": 139,
   "metadata": {},
   "outputs": [
    {
     "name": "stdout",
     "output_type": "stream",
     "text": [
      "'<class 'TypeError'>' - 'unsupported operand type(s) for //: 'int' and 'str''\n"
     ]
    }
   ],
   "source": [
    "a = 10; b = 'Z'\n",
    "\n",
    "try:\n",
    "    # Обязательный блок выполнения команд\n",
    "    division = a // b\n",
    "\n",
    "except ZeroDivisionError:\n",
    "    # Необязательный блок обработки возникшего исключения деления на 0:\n",
    "    print('Невозможно поделить на ноль.')\n",
    "\n",
    "except Exception as E:\n",
    "    # Необязательный блок обработки всех остальных возникших исключений:\n",
    "    print(\"'{}' - '{}'\".format(type(E), E))"
   ]
  },
  {
   "cell_type": "code",
   "execution_count": 140,
   "metadata": {},
   "outputs": [
    {
     "name": "stdout",
     "output_type": "stream",
     "text": [
      "Невозможно поделить: 10 и Z\n"
     ]
    }
   ],
   "source": [
    "a = 10; b = 'Z'\n",
    "\n",
    "try:\n",
    "    # Обязательный блок выполнения команд\n",
    "    division = a // b\n",
    "\n",
    "except (ZeroDivisionError, TypeError):\n",
    "    # Необязательный блок обработки исключений двух типов:\n",
    "    print('Невозможно поделить: {} и {}'.format(a, b))"
   ]
  },
  {
   "cell_type": "code",
   "execution_count": 141,
   "metadata": {},
   "outputs": [
    {
     "name": "stdout",
     "output_type": "stream",
     "text": [
      "Division: None\n"
     ]
    }
   ],
   "source": [
    "a = 10; b = 'Z'\n",
    "\n",
    "try:\n",
    "    # Обязательный блок выполнения команд\n",
    "    division = a // b\n",
    "\n",
    "except:\n",
    "    # Необязательный блок обработки исключений:\n",
    "    try:\n",
    "        division = b // a\n",
    "        \n",
    "    except:\n",
    "        division = None\n",
    "        \n",
    "print('Division:', division)"
   ]
  },
  {
   "cell_type": "code",
   "execution_count": 144,
   "metadata": {},
   "outputs": [
    {
     "name": "stdout",
     "output_type": "stream",
     "text": [
      "try\n",
      "finally\n"
     ]
    }
   ],
   "source": [
    "# except не обязателен\n",
    "try:\n",
    "    print('try')\n",
    "finally:\n",
    "    print('finally')"
   ]
  },
  {
   "cell_type": "code",
   "execution_count": 145,
   "metadata": {},
   "outputs": [
    {
     "ename": "SyntaxError",
     "evalue": "unexpected EOF while parsing (<ipython-input-145-d660c1d5373b>, line 3)",
     "output_type": "error",
     "traceback": [
      "\u001b[1;36m  File \u001b[1;32m\"<ipython-input-145-d660c1d5373b>\"\u001b[1;36m, line \u001b[1;32m3\u001b[0m\n\u001b[1;33m    print('try')\u001b[0m\n\u001b[1;37m                ^\u001b[0m\n\u001b[1;31mSyntaxError\u001b[0m\u001b[1;31m:\u001b[0m unexpected EOF while parsing\n"
     ]
    }
   ],
   "source": [
    "# но одиночный блок 'try' НЕВОЗМОЖЕН\n",
    "try:\n",
    "    print('try')"
   ]
  },
  {
   "cell_type": "markdown",
   "metadata": {},
   "source": [
    "---"
   ]
  },
  {
   "cell_type": "markdown",
   "metadata": {},
   "source": [
    "Варианты синтаксиса **raise**:"
   ]
  },
  {
   "cell_type": "code",
   "execution_count": 152,
   "metadata": {},
   "outputs": [
    {
     "name": "stdout",
     "output_type": "stream",
     "text": [
      "Не могу поделить на ноль\n"
     ]
    },
    {
     "ename": "ZeroDivisionError",
     "evalue": "",
     "output_type": "error",
     "traceback": [
      "\u001b[1;31m---------------------------------------------------------------------------\u001b[0m",
      "\u001b[1;31mZeroDivisionError\u001b[0m                         Traceback (most recent call last)",
      "\u001b[1;32m<ipython-input-152-dcf410118372>\u001b[0m in \u001b[0;36m<module>\u001b[1;34m\u001b[0m\n\u001b[0;32m      3\u001b[0m \u001b[1;32mtry\u001b[0m\u001b[1;33m:\u001b[0m\u001b[1;33m\u001b[0m\u001b[1;33m\u001b[0m\u001b[0m\n\u001b[1;32m----> 4\u001b[1;33m     \u001b[0mdivision\u001b[0m \u001b[1;33m=\u001b[0m \u001b[0ma\u001b[0m \u001b[1;33m//\u001b[0m \u001b[0mb\u001b[0m\u001b[1;33m\u001b[0m\u001b[1;33m\u001b[0m\u001b[0m\n\u001b[0m\u001b[0;32m      5\u001b[0m \u001b[1;33m\u001b[0m\u001b[0m\n",
      "\u001b[1;31mZeroDivisionError\u001b[0m: integer division or modulo by zero",
      "\nDuring handling of the above exception, another exception occurred:\n",
      "\u001b[1;31mZeroDivisionError\u001b[0m                         Traceback (most recent call last)",
      "\u001b[1;32m<ipython-input-152-dcf410118372>\u001b[0m in \u001b[0;36m<module>\u001b[1;34m\u001b[0m\n\u001b[0;32m      6\u001b[0m \u001b[1;32mexcept\u001b[0m \u001b[0mZeroDivisionError\u001b[0m\u001b[1;33m:\u001b[0m\u001b[1;33m\u001b[0m\u001b[1;33m\u001b[0m\u001b[0m\n\u001b[0;32m      7\u001b[0m     \u001b[0mprint\u001b[0m\u001b[1;33m(\u001b[0m\u001b[1;34m'Не могу поделить на ноль'\u001b[0m\u001b[1;33m)\u001b[0m\u001b[1;33m\u001b[0m\u001b[1;33m\u001b[0m\u001b[0m\n\u001b[1;32m----> 8\u001b[1;33m     \u001b[1;32mraise\u001b[0m \u001b[0mZeroDivisionError\u001b[0m\u001b[1;33m\u001b[0m\u001b[1;33m\u001b[0m\u001b[0m\n\u001b[0m",
      "\u001b[1;31mZeroDivisionError\u001b[0m: "
     ]
    }
   ],
   "source": [
    "a = 10; b = 0\n",
    "\n",
    "try:\n",
    "    division = a // b\n",
    "    \n",
    "except ZeroDivisionError:\n",
    "    print('Не могу поделить на ноль')\n",
    "    raise ZeroDivisionError"
   ]
  },
  {
   "cell_type": "code",
   "execution_count": 153,
   "metadata": {
    "scrolled": true
   },
   "outputs": [
    {
     "ename": "Exception",
     "evalue": "Разные типы данных",
     "output_type": "error",
     "traceback": [
      "\u001b[1;31m---------------------------------------------------------------------------\u001b[0m",
      "\u001b[1;31mException\u001b[0m                                 Traceback (most recent call last)",
      "\u001b[1;32m<ipython-input-153-9e8193accca4>\u001b[0m in \u001b[0;36m<module>\u001b[1;34m\u001b[0m\n\u001b[0;32m      2\u001b[0m \u001b[1;33m\u001b[0m\u001b[0m\n\u001b[0;32m      3\u001b[0m \u001b[1;32mif\u001b[0m \u001b[0mtype\u001b[0m\u001b[1;33m(\u001b[0m\u001b[0ma\u001b[0m\u001b[1;33m)\u001b[0m \u001b[1;33m!=\u001b[0m \u001b[0mtype\u001b[0m\u001b[1;33m(\u001b[0m\u001b[0mb\u001b[0m\u001b[1;33m)\u001b[0m\u001b[1;33m:\u001b[0m\u001b[1;33m\u001b[0m\u001b[1;33m\u001b[0m\u001b[0m\n\u001b[1;32m----> 4\u001b[1;33m     \u001b[1;32mraise\u001b[0m \u001b[0mException\u001b[0m\u001b[1;33m(\u001b[0m\u001b[1;34m'Разные типы данных'\u001b[0m\u001b[1;33m)\u001b[0m\u001b[1;33m\u001b[0m\u001b[1;33m\u001b[0m\u001b[0m\n\u001b[0m",
      "\u001b[1;31mException\u001b[0m: Разные типы данных"
     ]
    }
   ],
   "source": [
    "a = 10; b = 'Z'\n",
    "\n",
    "if type(a) != type(b):\n",
    "    raise Exception('Разные типы данных')"
   ]
  },
  {
   "cell_type": "code",
   "execution_count": 157,
   "metadata": {},
   "outputs": [],
   "source": [
    "class MyClass():\n",
    "    \n",
    "    def __init__(self):\n",
    "        pass\n",
    "    \n",
    "    def get_size(self):\n",
    "        raise NotImplementedError"
   ]
  },
  {
   "cell_type": "code",
   "execution_count": 158,
   "metadata": {},
   "outputs": [
    {
     "ename": "NotImplementedError",
     "evalue": "",
     "output_type": "error",
     "traceback": [
      "\u001b[1;31m---------------------------------------------------------------------------\u001b[0m",
      "\u001b[1;31mNotImplementedError\u001b[0m                       Traceback (most recent call last)",
      "\u001b[1;32m<ipython-input-158-ad8d1feed16a>\u001b[0m in \u001b[0;36m<module>\u001b[1;34m\u001b[0m\n\u001b[0;32m      1\u001b[0m \u001b[0mmy_class_instance\u001b[0m \u001b[1;33m=\u001b[0m \u001b[0mMyClass\u001b[0m\u001b[1;33m(\u001b[0m\u001b[1;33m)\u001b[0m\u001b[1;33m\u001b[0m\u001b[1;33m\u001b[0m\u001b[0m\n\u001b[1;32m----> 2\u001b[1;33m \u001b[0mmy_class_instance\u001b[0m\u001b[1;33m.\u001b[0m\u001b[0mget_size\u001b[0m\u001b[1;33m(\u001b[0m\u001b[1;33m)\u001b[0m\u001b[1;33m\u001b[0m\u001b[1;33m\u001b[0m\u001b[0m\n\u001b[0m",
      "\u001b[1;32m<ipython-input-157-bb7bc5a7cd66>\u001b[0m in \u001b[0;36mget_size\u001b[1;34m(self)\u001b[0m\n\u001b[0;32m      5\u001b[0m \u001b[1;33m\u001b[0m\u001b[0m\n\u001b[0;32m      6\u001b[0m     \u001b[1;32mdef\u001b[0m \u001b[0mget_size\u001b[0m\u001b[1;33m(\u001b[0m\u001b[0mself\u001b[0m\u001b[1;33m)\u001b[0m\u001b[1;33m:\u001b[0m\u001b[1;33m\u001b[0m\u001b[1;33m\u001b[0m\u001b[0m\n\u001b[1;32m----> 7\u001b[1;33m         \u001b[1;32mraise\u001b[0m \u001b[0mNotImplementedError\u001b[0m\u001b[1;33m\u001b[0m\u001b[1;33m\u001b[0m\u001b[0m\n\u001b[0m",
      "\u001b[1;31mNotImplementedError\u001b[0m: "
     ]
    }
   ],
   "source": [
    "my_class_instance = MyClass()\n",
    "my_class_instance.get_size()"
   ]
  },
  {
   "cell_type": "markdown",
   "metadata": {},
   "source": [
    "---"
   ]
  },
  {
   "cell_type": "markdown",
   "metadata": {},
   "source": [
    "**Assert** – это условная форма инструкции raise, которая используется в основном для отладки в процессе\n",
    "разработки, а также в процессе написания тестов."
   ]
  },
  {
   "cell_type": "markdown",
   "metadata": {},
   "source": [
    "Варианты синтаксиса **assert**:"
   ]
  },
  {
   "cell_type": "code",
   "execution_count": 159,
   "metadata": {},
   "outputs": [
    {
     "ename": "AssertionError",
     "evalue": "",
     "output_type": "error",
     "traceback": [
      "\u001b[1;31m---------------------------------------------------------------------------\u001b[0m",
      "\u001b[1;31mAssertionError\u001b[0m                            Traceback (most recent call last)",
      "\u001b[1;32m<ipython-input-159-e77d6b560e4a>\u001b[0m in \u001b[0;36m<module>\u001b[1;34m\u001b[0m\n\u001b[0;32m      1\u001b[0m \u001b[0ma\u001b[0m \u001b[1;33m=\u001b[0m \u001b[1;36m10\u001b[0m\u001b[1;33m;\u001b[0m \u001b[0mb\u001b[0m \u001b[1;33m=\u001b[0m \u001b[1;36m0\u001b[0m\u001b[1;33m\u001b[0m\u001b[1;33m\u001b[0m\u001b[0m\n\u001b[0;32m      2\u001b[0m \u001b[1;33m\u001b[0m\u001b[0m\n\u001b[1;32m----> 3\u001b[1;33m \u001b[1;32massert\u001b[0m \u001b[0mb\u001b[0m \u001b[1;33m!=\u001b[0m \u001b[1;36m0\u001b[0m\u001b[1;33m\u001b[0m\u001b[1;33m\u001b[0m\u001b[0m\n\u001b[0m",
      "\u001b[1;31mAssertionError\u001b[0m: "
     ]
    }
   ],
   "source": [
    "a = 10; b = 0\n",
    "\n",
    "assert b != 0"
   ]
  },
  {
   "cell_type": "markdown",
   "metadata": {},
   "source": [
    "---"
   ]
  },
  {
   "cell_type": "markdown",
   "metadata": {},
   "source": [
    "Можно создавать **свои классы исключений**, главное наследоваться от базового класса или его потомка."
   ]
  },
  {
   "cell_type": "code",
   "execution_count": null,
   "metadata": {},
   "outputs": [],
   "source": [
    "class ValidationError(Exception):\n",
    "    def __init__(self, message, errors):\n",
    "\n",
    "        # Call the base class constructor with the parameters it needs\n",
    "        super().__init__(message)\n",
    "\n",
    "        # Now for your custom code...\n",
    "        self.errors = errors"
   ]
  },
  {
   "cell_type": "markdown",
   "metadata": {},
   "source": [
    "---\n",
    "---\n",
    "---"
   ]
  },
  {
   "cell_type": "markdown",
   "metadata": {},
   "source": [
    "А теперь вопрос: что вернёт эта функция при выполнении:"
   ]
  },
  {
   "cell_type": "code",
   "execution_count": 161,
   "metadata": {},
   "outputs": [],
   "source": [
    "def some_func():\n",
    "    try:\n",
    "        return 'from_try'\n",
    "    finally:\n",
    "        return 'from_finally'"
   ]
  },
  {
   "cell_type": "code",
   "execution_count": null,
   "metadata": {},
   "outputs": [],
   "source": [
    "some_func()"
   ]
  },
  {
   "cell_type": "markdown",
   "metadata": {},
   "source": [
    "Взято отсюда (нестандартное и неожиданное поведение языка Python):\n",
    "https://github.com/satwikkansal/wtfPython"
   ]
  }
 ],
 "metadata": {
  "kernelspec": {
   "display_name": "Python 3",
   "language": "python",
   "name": "python3"
  },
  "language_info": {
   "codemirror_mode": {
    "name": "ipython",
    "version": 3
   },
   "file_extension": ".py",
   "mimetype": "text/x-python",
   "name": "python",
   "nbconvert_exporter": "python",
   "pygments_lexer": "ipython3",
   "version": "3.6.8"
  }
 },
 "nbformat": 4,
 "nbformat_minor": 2
}
